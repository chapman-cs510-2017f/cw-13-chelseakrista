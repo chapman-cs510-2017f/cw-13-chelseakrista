{
 "cells": [
  {
   "cell_type": "markdown",
   "metadata": {
    "collapsed": false
   },
   "source": [
    "# BLAS\n",
    "* How does this code compare in complexity to the code you wrote for Stack and Queue?\n",
    "The code in boost_matrix.cc  is way simpler, but that's probably because it uses things that are already defined. \n",
    "\n",
    "\n",
    "* Explain what the notation <type> means in, e.g., complex<long double>.\n",
    "The notation signifies what type the objects within the complex number are, here it's a long double.\n",
    "    \n",
    "* Are BLAS matrices row-major or column-major? How can you tell based on how the code is written?\n",
    "It's row-major, because when you  loop through them you go by rows first.\n",
    "\n",
    "* Write a new program that uses BLAS to create a complex plane in a similar way to your python code from before. Print the resulting matrix of complex numbers to the screen in a pretty way to demonstrate that your code works.\n"
   ]
  }
 ],
 "metadata": {
  "kernelspec": {
   "display_name": "Python 3 (Ubuntu Linux)",
   "language": "python",
   "name": "python3"
  },
  "language_info": {
   "codemirror_mode": {
    "name": "ipython",
    "version": 3
   },
   "file_extension": ".py",
   "mimetype": "text/x-python",
   "name": "python",
   "nbconvert_exporter": "python",
   "pygments_lexer": "ipython3",
   "version": "3.5.2"
  }
 },
 "nbformat": 4,
 "nbformat_minor": 0
}