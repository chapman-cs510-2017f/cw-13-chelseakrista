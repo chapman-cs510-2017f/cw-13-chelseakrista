{
 "cells": [
  {
   "cell_type": "markdown",
   "metadata": {
    "collapsed": false
   },
   "source": [
    "In a Jupyter notebook Matrix.ipynb, explain the code in detail.\n",
    "\n",
    "    In matrix.cc, a default constructor is used to construct a matrix in C++. It works similarly to boost_matrix.cc except that templates are used to implement the construct of the matrix.\n",
    "Explain what a template is in C++, and what it allows that is impossible in C.\n",
    "\n",
    "    Function templates are special functions that can operate with generic types. This allows us to create a function template whose functionality can be adapted to more than one type or class without repeating the entire code for each type.\n",
    "Explain what operator-overloading is, and which operators are overloaded here.\n",
    "    \n",
    "    Operator-overloading is when different operators have different implementations depending on their arguments. The operators that are being overloaded here are +, =, and ()."
   ]
  }
 ],
 "metadata": {
  "kernelspec": {
   "display_name": "Bash (Linux)",
   "language": "bash",
   "name": "bash"
  },
  "language_info": {
   "codemirror_mode": "shell",
   "file_extension": ".sh",
   "mimetype": "text/x-sh",
   "name": "bash"
  }
 },
 "nbformat": 4,
 "nbformat_minor": 0
}